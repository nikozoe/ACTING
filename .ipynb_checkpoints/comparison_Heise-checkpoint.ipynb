{
 "cells": [
  {
   "cell_type": "markdown",
   "metadata": {},
   "source": [
    "# Group simulator tests and comparison with Heises original version\n",
    "In this script we compare our version of group simulator to Heise's original version that was published alongside\n",
    "his article (Heise, D. R. (2013). Modeling Interactions in Small Groups. Social Psychology Quarterly, 76(1), 52–72. doi: 10.1177/0190272512467654) and to the empirical data that he also compared his results to taken from (Strodtbeck, Fred L.Mann, Richard D.,1956, Sex Role Differentiation in Jury Deliberations, Sociometry).\n",
    "\n",
    "When porting the ACT-core from netlogo to python we fixed a bug in the object selection that was present in Heise's version. That is the reason why results differ slightly. We checked that without fixing the bug, we get the exact same results. \n",
    "\n",
    "We also compare the effects of different object-selection-criterea and introduce a new object-selection-criterion that we name maximum-deflection-reduction and which adheres (like the name suggests) most closely to the ACT-principle in the sense that it selects the object in such a way as to minimize deflection in the group (not just the event)."
   ]
  },
  {
   "cell_type": "code",
   "execution_count": 1,
   "metadata": {},
   "outputs": [],
   "source": [
    "from ACTING_base import *\n",
    "import itertools\n",
    "import pickle\n",
    "import networkx as nx\n",
    "from nxpd import draw\n",
    "from IPython.display import display\n",
    "import numpy as np\n",
    "import seaborn as sns\n",
    "from mesa.batchrunner import BatchRunner\n",
    "from matplotlib.ticker import PercentFormatter\n",
    "import matplotlib.pyplot as plt\n",
    "import pandas as pd"
   ]
  },
  {
   "cell_type": "code",
   "execution_count": 2,
   "metadata": {},
   "outputs": [],
   "source": [
    "# data taken from Strodtbeck, Fred L.Mann, Richard D.,1956, Sex Role Differentiation in Jury Deliberations,\n",
    "# Sociometry\n",
    "male_inactive = np.array([1.14, 1.75, 10.50, 3.50, 25.44, 41.59, 4.85, 1.08, 0.00, 6.46, 1.82, 1.88])\n",
    "male_inactive_base = 1486\n",
    "male_active = np.array([1.03, 1.50, 8.26, 3.54, 19.42, 48.49, 5.09, 2.65, 0.08, 4.99, 2.61, 2.36])\n",
    "male_active_base = 12413\n",
    "female_inactive = np.array([1.39, 8.49, 16.98, 2.31, 22.07, 35.96, 6.33, 0.77, 0.00, 3.70, 1.54, 0.46])\n",
    "female_inactive_base = 648\n",
    "female_active = np.array([1.45, 2.91, 20.59, 1.52, 18.07, 34.95, 6.76, 1.26, 0.03, 9.31, 2.36, 0.77])\n",
    "female_active_base = 3093\n",
    "\n",
    "male_total_percentages = (male_inactive * male_inactive_base + male_active * male_active_base)/(male_inactive_base + male_active_base)/100\n",
    "female_total_percentages = (female_inactive * female_inactive_base + female_active * female_active_base)/(female_inactive_base + female_active_base)/100\n",
    "gender_diff_percentages = male_total_percentages - female_total_percentages\n",
    "\n",
    "#Taken from Heise article\n",
    "male_epa = [0.8, 1.6, -0.5]\n",
    "female_epa = [1.2, 0.7, 0.0]\n",
    "\n",
    "# Emperical data for IPA category percentages of all actions\n",
    "empirical = np.array([1.2,3.0,17.9,4.0,26.1,38.3,4.6,1.9,0.2,2.0,0.6,0.2])/100"
   ]
  },
  {
   "cell_type": "markdown",
   "metadata": {},
   "source": [
    "#### Some helper functions for preprocessing and visualization etc."
   ]
  },
  {
   "cell_type": "code",
   "execution_count": 3,
   "metadata": {},
   "outputs": [],
   "source": [
    "#helper class, because variable parameters passed to mesas Batchrunner have to provide hash\n",
    "class Hashabledict(dict):\n",
    "    def __hash__(self):\n",
    "        return hash(np.random.random())\n",
    "    \n",
    "def agent_data_collector(model):\n",
    "    return model.datacollector.get_agent_vars_dataframe()\n",
    "\n",
    "def model_data_collector(model):\n",
    "    return model.datacollector.get_model_vars_dataframe()\n",
    "\n",
    "def create_jury(males=8, females=4):\n",
    "    agentlist = []\n",
    "    # male jurors\n",
    "    for x in range(males):\n",
    "        agentlist.append(Hashabledict({'epa' : random_epa(male_epa, 1.0), 'initial_tension': 1.0}))\n",
    "\n",
    "    # female jurors\n",
    "    for x in range(females):\n",
    "        agentlist.append(Hashabledict({'epa' : random_epa(female_epa, 1.0), 'initial_tension': 1.0}))\n",
    "    return agentlist\n",
    "\n",
    "def all_agents_means(df):\n",
    "    agentdf = df[\"agent data\"]\n",
    "    zwi = pd.concat([f for f in agentdf])\n",
    "    by_row_index = zwi.groupby(\"Step\")\n",
    "    df_means = by_row_index.mean()\n",
    "    return df_means\n",
    "\n",
    "epa_colors=[\"#cb9f00\", \"#058c7d\", \"#78325f\"]\n",
    "n_colors = [\"#077043\",  \"#6b7b38\", \"#959a23\", \"#b35b1d\", \"#a13327\", \"#4e2963\", \"#2A3E4D\",\"#C58648\"]\n",
    "\n",
    "bins12=[0.5,1.5,2.5,3.5,4.5,5.5,6.5,7.5,8.5,9.5,10.5,11.5,12.5]"
   ]
  },
  {
   "cell_type": "markdown",
   "metadata": {},
   "source": [
    "## Minimum event tension \n",
    "This corresponds to Heise's original simulations only that we fixed a bug in the object selection.\n",
    "Parameters are chosen to be the same as in Heise's simulations"
   ]
  },
  {
   "cell_type": "code",
   "execution_count": 4,
   "metadata": {
    "scrolled": true
   },
   "outputs": [
    {
     "name": "stderr",
     "output_type": "stream",
     "text": [
      "500it [10:10,  1.22s/it]\n"
     ]
    }
   ],
   "source": [
    "np.random.seed(456) #set a seed for reproduceability\n",
    "juries = [tuple(create_jury(8,4)) for _ in range(500)]\n",
    "\n",
    "fixed_params = {\n",
    "                \"data_model\": \"us_unisex\",\n",
    "                \"actor_choice\" : \"max self-tension\",\n",
    "                \"action_on_group\" : True,\n",
    "                \"reciprocity_rate\": 0.8,\n",
    "                \"group_action_rate\": 0.4\n",
    "               }\n",
    "variable_params = {\"agents\": juries\n",
    "                  }\n",
    "\n",
    "\n",
    "batch_run = BatchRunner(GroupModel,\n",
    "                        fixed_parameters=fixed_params,\n",
    "                        variable_parameters=variable_params,\n",
    "                        iterations=1,\n",
    "                        max_steps=1000,\n",
    "                        model_reporters={\"model data\": model_data_collector, \"agent data\": agent_data_collector}\n",
    "                       )\n",
    "                      \n",
    "batch_run.run_all()\n",
    "min_event_tension = batch_run.get_model_vars_dataframe()"
   ]
  },
  {
   "cell_type": "markdown",
   "metadata": {},
   "source": [
    "#### Distribution Bales categories"
   ]
  },
  {
   "cell_type": "code",
   "execution_count": 5,
   "metadata": {},
   "outputs": [
    {
     "data": {
      "text/plain": [
       "<matplotlib.axes._subplots.AxesSubplot at 0x7fd251d8e6d0>"
      ]
     },
     "execution_count": 5,
     "metadata": {},
     "output_type": "execute_result"
    },
    {
     "data": {
      "image/png": "[encoded data removed]",
      "text/plain": [
       "<Figure size 432x288 with 1 Axes>"
      ]
     },
     "metadata": {
      "needs_background": "light"
     },
     "output_type": "display_data"
    }
   ],
   "source": [
    "mievte = pd.concat(list(min_event_tension[\"model data\"]))\n",
    "mievte[\"bales_category\"].plot.hist(density=True, bins=bins12)"
   ]
  },
  {
   "cell_type": "code",
   "execution_count": 6,
   "metadata": {},
   "outputs": [
    {
     "name": "stdout",
     "output_type": "stream",
     "text": [
      "Correlation between empirical  and and simulation settings:  min. event tension object selection\n"
     ]
    },
    {
     "data": {
      "text/plain": [
       "array([[1.        , 0.86680503],\n",
       "       [0.86680503, 1.        ]])"
      ]
     },
     "execution_count": 6,
     "metadata": {},
     "output_type": "execute_result"
    }
   ],
   "source": [
    "mievte_hist = np.histogram(mievte [\"bales_category\"],density=True, bins=bins12)[0]\n",
    "print(\"Correlation between empirical  and and simulation settings:  min. event tension object selection\")\n",
    "np.corrcoef(empirical, mievte_hist)"
   ]
  },
  {
   "cell_type": "markdown",
   "metadata": {},
   "source": [
    "#### Gender differences"
   ]
  },
  {
   "cell_type": "code",
   "execution_count": 7,
   "metadata": {},
   "outputs": [
    {
     "data": {
      "image/png": "[encoded data removed]",
      "text/plain": [
       "<Figure size 432x288 with 1 Axes>"
      ]
     },
     "metadata": {
      "needs_background": "light"
     },
     "output_type": "display_data"
    }
   ],
   "source": [
    "male_bales=[]\n",
    "for i, row in min_event_tension[\"model data\"].iteritems():\n",
    "    male_bales += list(row[row[\"actor\"]<8][\"bales_category\"].values)\n",
    "female_bales=[]\n",
    "for i, row in min_event_tension[\"model data\"].iteritems():\n",
    "    female_bales += list(row[row[\"actor\"]>=8][\"bales_category\"].values)\n",
    "\n",
    "male_bales_hist = np.histogram(male_bales,density=True, bins=bins12)[0]\n",
    "female_bales_hist = np.histogram(female_bales, density=True, bins=bins12)[0]\n",
    "mievte_gender_diff_percentages = male_bales_hist - female_bales_hist\n",
    "\n",
    "labels = list(range(1,13,1))\n",
    "x = np.arange(len(labels))  # the label locations\n",
    "width = 0.13  # the width of the bars\n",
    "\n",
    "fig, ax = plt.subplots()\n",
    "rects1 = ax.bar(x - width, gender_diff_percentages, 2*width,alpha=0.3, label='empirical')\n",
    "rects2= ax.bar(x + width, mievte_gender_diff_percentages, 2*width,alpha=0.3, label='minimum event tension')\n",
    "ax.axhline( y=0, xmin=0, xmax=1, color=\"black\", dashes=[0.5, 0.5], alpha=1)\n",
    "ax.set_xlabel('Bales (IPA) categories')\n",
    "ax.set_title(\"Gender differences\")\n",
    "ax.set_xticks(x)\n",
    "ax.set_xticklabels(labels)\n",
    "ax.legend()\n",
    "fig.tight_layout()\n",
    "ax.yaxis.set_major_formatter(PercentFormatter(1))\n",
    "plt.show()"
   ]
  },
  {
   "cell_type": "code",
   "execution_count": 8,
   "metadata": {},
   "outputs": [
    {
     "name": "stdout",
     "output_type": "stream",
     "text": [
      "Gender differences: correlation\n"
     ]
    },
    {
     "data": {
      "text/plain": [
       "array([[1.        , 0.84557578],\n",
       "       [0.84557578, 1.        ]])"
      ]
     },
     "execution_count": 8,
     "metadata": {},
     "output_type": "execute_result"
    }
   ],
   "source": [
    "print(\"Gender differences: correlation\")\n",
    "np.corrcoef(gender_diff_percentages,mievte_gender_diff_percentages)"
   ]
  },
  {
   "cell_type": "markdown",
   "metadata": {},
   "source": [
    "## Discrete minimum event tension"
   ]
  },
  {
   "cell_type": "code",
   "execution_count": 9,
   "metadata": {},
   "outputs": [
    {
     "name": "stderr",
     "output_type": "stream",
     "text": [
      "500it [23:54,  2.87s/it]\n"
     ]
    }
   ],
   "source": [
    "np.random.seed(123)\n",
    "juries = [tuple(create_jury(8,4)) for _ in range(500)]\n",
    "\n",
    "fixed_params = {\n",
    "                \"data_model\": \"us_unisex\",\n",
    "                \"actor_choice\" : \"max self-tension\",\n",
    "                \"action_on_group\" : True,\n",
    "                \"reciprocity_rate\": 0.8,\n",
    "                \"group_action_rate\": 0.4,\n",
    "                \"discrete_actions\": IPA_EPAs_1978\n",
    "               }\n",
    "variable_params = {\"agents\": juries\n",
    "                  }\n",
    "\n",
    "\n",
    "batch_run = BatchRunner(GroupModel,\n",
    "                        fixed_parameters=fixed_params,\n",
    "                        variable_parameters=variable_params,\n",
    "                        iterations=1,\n",
    "                        max_steps=1000,\n",
    "                        model_reporters={\"model data\": model_data_collector, \"agent data\": agent_data_collector}\n",
    "                       )\n",
    "                      \n",
    "batch_run.run_all()\n",
    "discrete_min_event_tension = batch_run.get_model_vars_dataframe()"
   ]
  },
  {
   "cell_type": "markdown",
   "metadata": {},
   "source": [
    "#### Distribution Bales categories"
   ]
  },
  {
   "cell_type": "code",
   "execution_count": 10,
   "metadata": {},
   "outputs": [
    {
     "data": {
      "text/plain": [
       "<matplotlib.axes._subplots.AxesSubplot at 0x7fd2599dc400>"
      ]
     },
     "execution_count": 10,
     "metadata": {},
     "output_type": "execute_result"
    },
    {
     "data": {
      "image/png": "[encoded data removed]",
      "text/plain": [
       "<Figure size 432x288 with 1 Axes>"
      ]
     },
     "metadata": {
      "needs_background": "light"
     },
     "output_type": "display_data"
    }
   ],
   "source": [
    "dimievte = pd.concat(list(discrete_min_event_tension[\"model data\"]))\n",
    "dimievte [\"bales_category\"].plot.hist(density=True, bins=bins12)"
   ]
  },
  {
   "cell_type": "code",
   "execution_count": 11,
   "metadata": {},
   "outputs": [
    {
     "name": "stdout",
     "output_type": "stream",
     "text": [
      "Correlation between empirical and simulation settings: discrete behaviors, min. event tension object selection\n"
     ]
    },
    {
     "data": {
      "text/plain": [
       "array([[1.       , 0.9301563],\n",
       "       [0.9301563, 1.       ]])"
      ]
     },
     "execution_count": 11,
     "metadata": {},
     "output_type": "execute_result"
    }
   ],
   "source": [
    "print(\"Correlation between empirical and simulation settings: discrete behaviors, min. event tension object selection\")\n",
    "dimievte_hist = np.histogram(dimievte [\"bales_category\"],density=True, bins=bins12)[0]\n",
    "np.corrcoef(empirical, dimievte_hist)"
   ]
  },
  {
   "cell_type": "markdown",
   "metadata": {},
   "source": [
    "#### Gender differences"
   ]
  },
  {
   "cell_type": "code",
   "execution_count": 12,
   "metadata": {},
   "outputs": [
    {
     "data": {
      "image/png": "[encoded data removed]",
      "text/plain": [
       "<Figure size 432x288 with 1 Axes>"
      ]
     },
     "metadata": {
      "needs_background": "light"
     },
     "output_type": "display_data"
    }
   ],
   "source": [
    "male_bales=[]\n",
    "for i, row in discrete_min_event_tension[\"model data\"].iteritems():\n",
    "    male_bales += list(row[row[\"actor\"]<8][\"bales_category\"].values)\n",
    "female_bales=[]\n",
    "for i, row in discrete_min_event_tension[\"model data\"].iteritems():\n",
    "    female_bales += list(row[row[\"actor\"]>=8][\"bales_category\"].values)\n",
    "\n",
    "male_bales_hist = np.histogram(male_bales,density=True, bins=bins12)[0]\n",
    "female_bales_hist = np.histogram(female_bales, density=True, bins=bins12)[0]\n",
    "dimievte_gender_diff_percentages = male_bales_hist - female_bales_hist\n",
    "\n",
    "# the label locations\n",
    "labels = list(range(1,13,1))\n",
    "x = np.arange(len(labels)) \n",
    "width = 0.13  # the width of the bars\n",
    "\n",
    "fig, ax = plt.subplots()\n",
    "rects1 = ax.bar(x - width, gender_diff_percentages, 2*width,alpha=0.3, label='empirical')\n",
    "rects2= ax.bar(x + width, dimievte_gender_diff_percentages, 2*width,alpha=0.3, label='discr. min. event tension')\n",
    "ax.axhline( y=0, xmin=0, xmax=1, color=\"black\", dashes=[0.5, 0.5], alpha=1)\n",
    "ax.set_xlabel('Bales (IPA) categories')\n",
    "ax.set_title('Gender differences')\n",
    "ax.set_xticks(x)\n",
    "ax.set_xticklabels(labels)\n",
    "ax.legend()\n",
    "fig.tight_layout()\n",
    "ax.yaxis.set_major_formatter(PercentFormatter(1))\n",
    "np.corrcoef(gender_diff_percentages, dimievte_gender_diff_percentages)\n",
    "\n",
    "plt.show()"
   ]
  },
  {
   "cell_type": "code",
   "execution_count": 13,
   "metadata": {},
   "outputs": [
    {
     "name": "stdout",
     "output_type": "stream",
     "text": [
      "Gender differences: correlation\n"
     ]
    },
    {
     "data": {
      "text/plain": [
       "array([[1.        , 0.90411097],\n",
       "       [0.90411097, 1.        ]])"
      ]
     },
     "execution_count": 13,
     "metadata": {},
     "output_type": "execute_result"
    }
   ],
   "source": [
    "print(\"Gender differences: correlation\")\n",
    "np.corrcoef(gender_diff_percentages, dimievte_gender_diff_percentages)"
   ]
  },
  {
   "cell_type": "markdown",
   "metadata": {},
   "source": [
    "## Maximum deflection reduction"
   ]
  },
  {
   "cell_type": "code",
   "execution_count": 14,
   "metadata": {},
   "outputs": [
    {
     "name": "stderr",
     "output_type": "stream",
     "text": [
      "500it [11:38,  1.40s/it]\n"
     ]
    }
   ],
   "source": [
    "np.random.seed(456)\n",
    "\n",
    "fixed_params = {\n",
    "                \"data_model\": \"us_unisex\",\n",
    "                \"actor_choice\" : \"max self-tension\",\n",
    "                \"object_choice\": \"max deflection-reduction\",\n",
    "                \"action_on_group\" : True,\n",
    "                \"reciprocity_rate\": 0.8,\n",
    "                \"group_action_rate\": 0.4\n",
    "               }\n",
    "variable_params = {\"agents\": juries\n",
    "                  }\n",
    "\n",
    "\n",
    "batch_run = BatchRunner(GroupModel,\n",
    "                        fixed_parameters=fixed_params,\n",
    "                        variable_parameters=variable_params,\n",
    "                        iterations=1,\n",
    "                        max_steps=1000,\n",
    "                        model_reporters={\"model data\": model_data_collector, \"agent data\": agent_data_collector}\n",
    "                       )\n",
    "                      \n",
    "batch_run.run_all()\n",
    "max_deflection_reduction = batch_run.get_model_vars_dataframe()"
   ]
  },
  {
   "cell_type": "markdown",
   "metadata": {},
   "source": [
    "#### Distribution Bales categories"
   ]
  },
  {
   "cell_type": "code",
   "execution_count": 15,
   "metadata": {},
   "outputs": [
    {
     "data": {
      "text/plain": [
       "<matplotlib.axes._subplots.AxesSubplot at 0x7fd249cf4100>"
      ]
     },
     "execution_count": 15,
     "metadata": {},
     "output_type": "execute_result"
    },
    {
     "data": {
      "image/png": "[encoded data removed]",
      "text/plain": [
       "<Figure size 432x288 with 1 Axes>"
      ]
     },
     "metadata": {
      "needs_background": "light"
     },
     "output_type": "display_data"
    }
   ],
   "source": [
    "madere = pd.concat(list(max_deflection_reduction[\"model data\"]))\n",
    "madere[\"bales_category\"].plot.hist(density=True, bins=bins12)"
   ]
  },
  {
   "cell_type": "code",
   "execution_count": 16,
   "metadata": {},
   "outputs": [
    {
     "name": "stdout",
     "output_type": "stream",
     "text": [
      "Correlation between empirical data and simulation settings: maximum deflection reduction object selection\n"
     ]
    },
    {
     "data": {
      "text/plain": [
       "array([[1.        , 0.88135166],\n",
       "       [0.88135166, 1.        ]])"
      ]
     },
     "execution_count": 16,
     "metadata": {},
     "output_type": "execute_result"
    }
   ],
   "source": [
    "print(\"Correlation between empirical data and simulation settings: maximum deflection reduction object selection\")\n",
    "madere_hist = np.histogram(madere[\"bales_category\"],density=True, bins=bins12)[0]\n",
    "np.corrcoef(empirical, madere_hist)"
   ]
  },
  {
   "cell_type": "markdown",
   "metadata": {},
   "source": [
    "#### Gender differences"
   ]
  },
  {
   "cell_type": "code",
   "execution_count": 17,
   "metadata": {},
   "outputs": [
    {
     "data": {
      "image/png": "[encoded data removed]",
      "text/plain": [
       "<Figure size 432x288 with 1 Axes>"
      ]
     },
     "metadata": {
      "needs_background": "light"
     },
     "output_type": "display_data"
    }
   ],
   "source": [
    "male_bales=[]\n",
    "for i, row in max_deflection_reduction[\"model data\"].iteritems():\n",
    "    male_bales += list(row[row[\"actor\"]<8][\"bales_category\"].values)\n",
    "female_bales=[]\n",
    "for i, row in max_deflection_reduction[\"model data\"].iteritems():\n",
    "    female_bales += list(row[row[\"actor\"]>=8][\"bales_category\"].values)\n",
    "\n",
    "male_bales_hist = np.histogram(male_bales,density=True, bins=bins12)[0]\n",
    "female_bales_hist = np.histogram(female_bales, density=True, bins=bins12)[0]\n",
    "madere_gender_diff_percentages = male_bales_hist - female_bales_hist\n",
    "\n",
    "labels = list(range(1,13,1))\n",
    "x = np.arange(len(labels))  # the label locations\n",
    "width = 0.13  # the width of the bars\n",
    "\n",
    "fig, ax = plt.subplots()\n",
    "rects1 = ax.bar(x - width, gender_diff_percentages, 2*width,alpha=0.3, label='empirical')\n",
    "rects2= ax.bar(x + width, madere_gender_diff_percentages, 2*width,alpha=0.3, label='max. deflection reduction')\n",
    "ax.axhline( y=0, xmin=0, xmax=1, color=\"black\", dashes=[0.5, 0.5], alpha=1)\n",
    "ax.set_title('Gender differences')\n",
    "ax.set_xlabel('Bales (IPA) categories')\n",
    "ax.set_xticks(x)\n",
    "ax.set_xticklabels(labels)\n",
    "ax.legend()\n",
    "fig.tight_layout()\n",
    "ax.yaxis.set_major_formatter(PercentFormatter(1))\n",
    "plt.show()"
   ]
  },
  {
   "cell_type": "code",
   "execution_count": 18,
   "metadata": {},
   "outputs": [
    {
     "name": "stdout",
     "output_type": "stream",
     "text": [
      "Gender differences: correlation\n"
     ]
    },
    {
     "data": {
      "text/plain": [
       "array([[1.        , 0.85207239],\n",
       "       [0.85207239, 1.        ]])"
      ]
     },
     "execution_count": 18,
     "metadata": {},
     "output_type": "execute_result"
    }
   ],
   "source": [
    "print(\"Gender differences: correlation\")\n",
    "np.corrcoef(gender_diff_percentages, madere_gender_diff_percentages)"
   ]
  },
  {
   "cell_type": "markdown",
   "metadata": {},
   "source": [
    "## Random"
   ]
  },
  {
   "cell_type": "code",
   "execution_count": 19,
   "metadata": {},
   "outputs": [
    {
     "name": "stderr",
     "output_type": "stream",
     "text": [
      "500it [05:08,  1.62it/s]\n"
     ]
    }
   ],
   "source": [
    "fixed_params = {\n",
    "                \"data_model\": \"us_unisex\",\n",
    "                \"actor_choice\" : \"max self-tension\",\n",
    "                \"object_choice\": \"random\",\n",
    "                \"action_on_group\" : True,\n",
    "                \"reciprocity_rate\": 0.8,\n",
    "                \"group_action_rate\": 0.4\n",
    "               }\n",
    "variable_params = {\"agents\": juries\n",
    "                  }\n",
    "\n",
    "\n",
    "batch_run = BatchRunner(GroupModel,\n",
    "                        fixed_parameters=fixed_params,\n",
    "                        variable_parameters=variable_params,\n",
    "                        iterations=1,\n",
    "                        max_steps=1000,\n",
    "                        model_reporters={\"model data\": model_data_collector, \"agent data\": agent_data_collector}\n",
    "                       )\n",
    "                      \n",
    "batch_run.run_all()\n",
    "random = batch_run.get_model_vars_dataframe()"
   ]
  },
  {
   "cell_type": "markdown",
   "metadata": {},
   "source": [
    "#### Distribution Bales categories"
   ]
  },
  {
   "cell_type": "code",
   "execution_count": 20,
   "metadata": {},
   "outputs": [
    {
     "data": {
      "text/plain": [
       "<matplotlib.axes._subplots.AxesSubplot at 0x7fd259c000d0>"
      ]
     },
     "execution_count": 20,
     "metadata": {},
     "output_type": "execute_result"
    },
    {
     "data": {
      "image/png": "[encoded data removed]",
      "text/plain": [
       "<Figure size 432x288 with 1 Axes>"
      ]
     },
     "metadata": {
      "needs_background": "light"
     },
     "output_type": "display_data"
    }
   ],
   "source": [
    "ran = pd.concat(list(random[\"model data\"]))\n",
    "ran[\"bales_category\"].plot.hist(density=True, bins=bins12)"
   ]
  },
  {
   "cell_type": "code",
   "execution_count": 21,
   "metadata": {},
   "outputs": [
    {
     "name": "stdout",
     "output_type": "stream",
     "text": [
      "Correlation between empirical data and simulation settings: random object selection\n"
     ]
    },
    {
     "data": {
      "text/plain": [
       "array([[1.        , 0.87761764],\n",
       "       [0.87761764, 1.        ]])"
      ]
     },
     "execution_count": 21,
     "metadata": {},
     "output_type": "execute_result"
    }
   ],
   "source": [
    "print(\"Correlation between empirical data and simulation settings: random object selection\")\n",
    "ran_hist = np.histogram(ran[\"bales_category\"],density=True, bins=bins12)[0]\n",
    "np.corrcoef(empirical, ran_hist)"
   ]
  },
  {
   "cell_type": "markdown",
   "metadata": {},
   "source": [
    "#### Gender differences"
   ]
  },
  {
   "cell_type": "code",
   "execution_count": 22,
   "metadata": {},
   "outputs": [
    {
     "data": {
      "image/png": "[encoded data removed]",
      "text/plain": [
       "<Figure size 432x288 with 1 Axes>"
      ]
     },
     "metadata": {
      "needs_background": "light"
     },
     "output_type": "display_data"
    }
   ],
   "source": [
    "male_bales=[]\n",
    "for i, row in random[\"model data\"].iteritems():\n",
    "    male_bales += list(row[row[\"actor\"]<8][\"bales_category\"].values)\n",
    "female_bales=[]\n",
    "for i, row in random[\"model data\"].iteritems():\n",
    "    female_bales += list(row[row[\"actor\"]>=8][\"bales_category\"].values)\n",
    "\n",
    "bins12=[0.5,1.5,2.5,3.5,4.5,5.5,6.5,7.5,8.5,9.5,10.5,11.5,12.5]\n",
    "male_bales_hist = np.histogram(male_bales,density=True, bins=bins12)[0]\n",
    "female_bales_hist = np.histogram(female_bales, density=True, bins=bins12)[0]\n",
    "random_gender_diff_percentages = male_bales_hist - female_bales_hist\n",
    "\n",
    "labels = list(range(1,13,1))\n",
    "x = np.arange(len(labels))  # the label locations\n",
    "width = 0.13  # the width of the bars\n",
    "\n",
    "fig, ax = plt.subplots()\n",
    "rects1 = ax.bar(x - width, gender_diff_percentages, 2*width,alpha=0.3, label='empirical')\n",
    "rects2= ax.bar(x + width, random_gender_diff_percentages, 2*width,alpha=0.3, label='random object')\n",
    "ax.axhline( y=0, xmin=0, xmax=1, color=\"black\", dashes=[0.5, 0.5], alpha=1)\n",
    "\n",
    "ax.set_xlabel('Bales (IPA) categories')\n",
    "ax.set_title('Gender differences')\n",
    "ax.set_xticks(x)\n",
    "ax.set_xticklabels(labels)\n",
    "ax.legend()\n",
    "fig.tight_layout()\n",
    "ax.yaxis.set_major_formatter(PercentFormatter(1))\n",
    "plt.show()"
   ]
  },
  {
   "cell_type": "code",
   "execution_count": 23,
   "metadata": {},
   "outputs": [
    {
     "name": "stdout",
     "output_type": "stream",
     "text": [
      "Gender differences: correlation\n"
     ]
    },
    {
     "data": {
      "text/plain": [
       "array([[1.        , 0.88660556],\n",
       "       [0.88660556, 1.        ]])"
      ]
     },
     "execution_count": 23,
     "metadata": {},
     "output_type": "execute_result"
    }
   ],
   "source": [
    "print(\"Gender differences: correlation\")\n",
    "np.corrcoef(gender_diff_percentages, random_gender_diff_percentages)"
   ]
  },
  {
   "cell_type": "markdown",
   "metadata": {},
   "source": [
    "## discrete max deflection reduction"
   ]
  },
  {
   "cell_type": "code",
   "execution_count": 24,
   "metadata": {},
   "outputs": [
    {
     "name": "stderr",
     "output_type": "stream",
     "text": [
      "500it [25:38,  3.08s/it]\n"
     ]
    }
   ],
   "source": [
    "fixed_params = {\n",
    "                \"data_model\": \"us_unisex\",\n",
    "                \"actor_choice\" : \"max self-tension\",\n",
    "                \"object_choice\": \"max deflection-reduction\",\n",
    "                \"action_on_group\" : True,\n",
    "                \"reciprocity_rate\": 0.8,\n",
    "                \"group_action_rate\": 0.4,\n",
    "                \"discrete_actions\": IPA_EPAs_1978\n",
    "               }\n",
    "variable_params = {\"agents\": juries\n",
    "                  }\n",
    "\n",
    "\n",
    "batch_run = BatchRunner(GroupModel,\n",
    "                        fixed_parameters=fixed_params,\n",
    "                        variable_parameters=variable_params,\n",
    "                        iterations=1,\n",
    "                        max_steps=1000,\n",
    "                        model_reporters={\"model data\": model_data_collector, \"agent data\": agent_data_collector}\n",
    "                       )\n",
    "                      \n",
    "batch_run.run_all()\n",
    "discrete_max_deflection_reduction = batch_run.get_model_vars_dataframe()\n"
   ]
  },
  {
   "cell_type": "markdown",
   "metadata": {},
   "source": [
    "#### Distribution Bales categories"
   ]
  },
  {
   "cell_type": "code",
   "execution_count": 25,
   "metadata": {},
   "outputs": [
    {
     "data": {
      "text/plain": [
       "<matplotlib.axes._subplots.AxesSubplot at 0x7fd251eae2e0>"
      ]
     },
     "execution_count": 25,
     "metadata": {},
     "output_type": "execute_result"
    },
    {
     "data": {
      "image/png": "[encoded data removed]",
      "text/plain": [
       "<Figure size 432x288 with 1 Axes>"
      ]
     },
     "metadata": {
      "needs_background": "light"
     },
     "output_type": "display_data"
    }
   ],
   "source": [
    "dimadere = pd.concat(list(discrete_max_deflection_reduction[\"model data\"]))\n",
    "dimadere[\"bales_category\"].plot.hist(density=True, bins=bins12)"
   ]
  },
  {
   "cell_type": "code",
   "execution_count": 26,
   "metadata": {},
   "outputs": [
    {
     "name": "stdout",
     "output_type": "stream",
     "text": [
      "Correlation between empirical data and simulation settings: discrete behaviors, maximum deflection reduction object selection\n"
     ]
    },
    {
     "data": {
      "text/plain": [
       "array([[1.        , 0.95590354],\n",
       "       [0.95590354, 1.        ]])"
      ]
     },
     "execution_count": 26,
     "metadata": {},
     "output_type": "execute_result"
    }
   ],
   "source": [
    "dimadere_hist = np.histogram(dimadere[\"bales_category\"],density=True, bins=bins12)[0]\n",
    "print(\"Correlation between empirical data and simulation settings: discrete behaviors, maximum deflection reduction object selection\")\n",
    "np.corrcoef(empirical, dimadere_hist)"
   ]
  },
  {
   "cell_type": "markdown",
   "metadata": {},
   "source": [
    "#### Gender differences"
   ]
  },
  {
   "cell_type": "code",
   "execution_count": 27,
   "metadata": {},
   "outputs": [
    {
     "data": {
      "image/png": "[encoded data removed]",
      "text/plain": [
       "<Figure size 432x288 with 1 Axes>"
      ]
     },
     "metadata": {
      "needs_background": "light"
     },
     "output_type": "display_data"
    }
   ],
   "source": [
    "male_bales=[]\n",
    "for i, row in discrete_max_deflection_reduction[\"model data\"].iteritems():\n",
    "    male_bales += list(row[row[\"actor\"]<8][\"bales_category\"].values)\n",
    "female_bales=[]\n",
    "for i, row in discrete_max_deflection_reduction[\"model data\"].iteritems():\n",
    "    female_bales += list(row[row[\"actor\"]>=8][\"bales_category\"].values)\n",
    "\n",
    "\n",
    "male_bales_hist = np.histogram(male_bales,density=True, bins=bins12)[0]\n",
    "female_bales_hist = np.histogram(female_bales, density=True, bins=bins12)[0]\n",
    "dimadere_gender_diff_percentages = male_bales_hist - female_bales_hist\n",
    "\n",
    "labels = list(range(1,13,1))\n",
    "x = np.arange(len(labels))  # the label locations\n",
    "width = 0.13  # the width of the bars\n",
    "\n",
    "fig, ax = plt.subplots()\n",
    "rects1 = ax.bar(x - width, gender_diff_percentages, 2*width,alpha=0.3, label='empirical')\n",
    "rects2= ax.bar(x + width, dimadere_gender_diff_percentages, 2*width,alpha=0.3, label='discrete maximum deflection reduction')\n",
    "ax.axhline( y=0, xmin=0, xmax=1, color=\"black\", dashes=[0.5, 0.5], alpha=1)\n",
    "ax.set_xlabel('Bales (IPA) categories')\n",
    "ax.set_title('Gender differences')\n",
    "ax.set_xticks(x)\n",
    "ax.set_xticklabels(labels)\n",
    "ax.legend()\n",
    "fig.tight_layout()\n",
    "ax.yaxis.set_major_formatter(PercentFormatter(1))\n",
    "plt.show()"
   ]
  },
  {
   "cell_type": "code",
   "execution_count": 28,
   "metadata": {},
   "outputs": [
    {
     "name": "stdout",
     "output_type": "stream",
     "text": [
      "Gender differences: correlation\n"
     ]
    },
    {
     "data": {
      "text/plain": [
       "array([[1.        , 0.90466981],\n",
       "       [0.90466981, 1.        ]])"
      ]
     },
     "execution_count": 28,
     "metadata": {},
     "output_type": "execute_result"
    }
   ],
   "source": [
    "print(\"Gender differences: correlation\")\n",
    "np.corrcoef(gender_diff_percentages, dimadere_gender_diff_percentages)\n"
   ]
  },
  {
   "cell_type": "markdown",
   "metadata": {},
   "source": [
    "## Discrete random "
   ]
  },
  {
   "cell_type": "code",
   "execution_count": 29,
   "metadata": {},
   "outputs": [
    {
     "name": "stderr",
     "output_type": "stream",
     "text": [
      "500it [09:51,  1.18s/it]\n"
     ]
    }
   ],
   "source": [
    "fixed_params = {\n",
    "                \"data_model\": \"us_unisex\",\n",
    "                \"actor_choice\" : \"max self-tension\",\n",
    "                \"object_choice\": \"random\",\n",
    "                \"action_on_group\" : True,\n",
    "                \"reciprocity_rate\": 0.8,\n",
    "                \"group_action_rate\": 0.4,\n",
    "                \"discrete_actions\": IPA_EPAs_1978\n",
    "               }\n",
    "variable_params = {\"agents\": juries\n",
    "                  }\n",
    "\n",
    "\n",
    "batch_run = BatchRunner(GroupModel,\n",
    "                        fixed_parameters=fixed_params,\n",
    "                        variable_parameters=variable_params,\n",
    "                        iterations=1,\n",
    "                        max_steps=1000,\n",
    "                        model_reporters={\"model data\": model_data_collector, \"agent data\": agent_data_collector}\n",
    "                       )\n",
    "                      \n",
    "batch_run.run_all()\n",
    "discrete_random  = batch_run.get_model_vars_dataframe()"
   ]
  },
  {
   "cell_type": "markdown",
   "metadata": {},
   "source": [
    "#### Distribution Bales categories"
   ]
  },
  {
   "cell_type": "code",
   "execution_count": 30,
   "metadata": {},
   "outputs": [
    {
     "data": {
      "text/plain": [
       "<matplotlib.axes._subplots.AxesSubplot at 0x7fd242a9f640>"
      ]
     },
     "execution_count": 30,
     "metadata": {},
     "output_type": "execute_result"
    },
    {
     "data": {
      "image/png": "[encoded data removed]",
      "text/plain": [
       "<Figure size 432x288 with 1 Axes>"
      ]
     },
     "metadata": {
      "needs_background": "light"
     },
     "output_type": "display_data"
    }
   ],
   "source": [
    "diran = pd.concat(list(discrete_random[\"model data\"]))\n",
    "diran[\"bales_category\"].plot.hist(density=True, bins=bins12)"
   ]
  },
  {
   "cell_type": "code",
   "execution_count": 31,
   "metadata": {},
   "outputs": [
    {
     "name": "stdout",
     "output_type": "stream",
     "text": [
      "Correlation between empirical data and simulation settings: discrete behaviors, random object selection\n"
     ]
    },
    {
     "data": {
      "text/plain": [
       "array([[1.        , 0.86680503],\n",
       "       [0.86680503, 1.        ]])"
      ]
     },
     "execution_count": 31,
     "metadata": {},
     "output_type": "execute_result"
    }
   ],
   "source": [
    "diran_hist = np.histogram(diran[\"bales_category\"],density=True, bins=bins12)[0]\n",
    "print(\"Correlation between empirical data and simulation settings: discrete behaviors, random object selection\")\n",
    "np.corrcoef(empirical, mievte_hist)"
   ]
  },
  {
   "cell_type": "markdown",
   "metadata": {},
   "source": [
    "#### Gender differences"
   ]
  },
  {
   "cell_type": "code",
   "execution_count": 32,
   "metadata": {},
   "outputs": [
    {
     "data": {
      "image/png": "[encoded data removed]",
      "text/plain": [
       "<Figure size 432x288 with 1 Axes>"
      ]
     },
     "metadata": {
      "needs_background": "light"
     },
     "output_type": "display_data"
    }
   ],
   "source": [
    "male_bales=[]\n",
    "for i, row in discrete_random[\"model data\"].iteritems():\n",
    "    male_bales += list(row[row[\"actor\"]<8][\"bales_category\"].values)\n",
    "female_bales=[]\n",
    "for i, row in discrete_random[\"model data\"].iteritems():\n",
    "    female_bales += list(row[row[\"actor\"]>=8][\"bales_category\"].values)\n",
    "\n",
    "male_bales_hist = np.histogram(male_bales,density=True, bins=bins12)[0]\n",
    "female_bales_hist = np.histogram(female_bales, density=True, bins=bins12)[0]\n",
    "diran_gender_diff_percentages = male_bales_hist - female_bales_hist\n",
    "\n",
    "labels = list(range(1,13,1))\n",
    "x = np.arange(len(labels))  # the label locations\n",
    "width = 0.13  # the width of the bars\n",
    "\n",
    "fig, ax = plt.subplots()\n",
    "rects1 = ax.bar(x - width, gender_diff_percentages, 2*width,alpha=0.3, label='empirical')\n",
    "rects2= ax.bar(x + width, diran_gender_diff_percentages, 2*width,alpha=0.3, label='discrete random')\n",
    "ax.axhline( y=0, xmin=0, xmax=1, color=\"black\", dashes=[0.5, 0.5], alpha=1)\n",
    "ax.set_xlabel('Bales (IPA) categories')\n",
    "ax.set_title('Gender differences')\n",
    "ax.set_xticks(x)\n",
    "ax.set_xticklabels(labels)\n",
    "ax.legend()\n",
    "fig.tight_layout()\n",
    "ax.yaxis.set_major_formatter(PercentFormatter(1))\n",
    "plt.show()"
   ]
  },
  {
   "cell_type": "code",
   "execution_count": 33,
   "metadata": {},
   "outputs": [
    {
     "name": "stdout",
     "output_type": "stream",
     "text": [
      "Gender differences: correlation\n"
     ]
    },
    {
     "data": {
      "text/plain": [
       "array([[1.        , 0.89632582],\n",
       "       [0.89632582, 1.        ]])"
      ]
     },
     "execution_count": 33,
     "metadata": {},
     "output_type": "execute_result"
    }
   ],
   "source": [
    "print(\"Gender differences: correlation\")\n",
    "np.corrcoef(gender_diff_percentages, diran_gender_diff_percentages)"
   ]
  },
  {
   "cell_type": "markdown",
   "metadata": {},
   "source": [
    "# Summary \n",
    "### Comparison IPA category percentages, empirical data and  different simulation settings"
   ]
  },
  {
   "cell_type": "code",
   "execution_count": 34,
   "metadata": {},
   "outputs": [
    {
     "data": {
      "image/png": "[encoded data removed]",
      "text/plain": [
       "<Figure size 432x288 with 1 Axes>"
      ]
     },
     "metadata": {
      "needs_background": "light"
     },
     "output_type": "display_data"
    }
   ],
   "source": [
    "labels = list(range(1,13,1))\n",
    "x = np.arange(len(labels))  # the label locations\n",
    "width = 0.1  # the width of the bars\n",
    "\n",
    "fig, ax = plt.subplots()\n",
    "ax.bar(x -2.5*width, empirical, 2*width,alpha=0.3, label='Empirical')\n",
    "ax.bar(x - width, mievte_hist, width, color = n_colors[2], alpha=0.5, label='Min event-tension')\n",
    "ax.bar(x , dimievte_hist, width, color = n_colors[2], label='Discrete Min event-tension')\n",
    "ax.bar(x + width, madere_hist, width,color = n_colors[4],  alpha=0.5, label='Max deflection-reduction')\n",
    "ax.bar(x + 2*width, dimadere_hist, width,color = n_colors[4],label='Discrete max deflection-red.')\n",
    "ax.bar(x + 3*width, ran_hist, width, color = n_colors[6],  alpha=0.5, label='Random')\n",
    "ax.bar(x + 4*width, diran_hist, width,color = n_colors[6],label='Discrete random')\n",
    "\n",
    "\n",
    "# Add some text for labels, title and custom x-axis tick labels, etc.\n",
    "\n",
    "ax.set_xlabel('Bales (IPA) categories')\n",
    "ax.set_title('All simulated behaviors')\n",
    "ax.set_xticks(x)\n",
    "ax.set_xticklabels(labels)\n",
    "ax.legend()\n",
    "\n",
    "vals = ax.get_yticks()\n",
    "ax.set_yticklabels(['{:,.0%}'.format(x) for x in vals])\n",
    "\n",
    "fig.tight_layout()\n",
    "\n",
    "plt.show()"
   ]
  },
  {
   "cell_type": "markdown",
   "metadata": {},
   "source": [
    "### Correlations between empirical data and  different simulation settings for IPA-distributions"
   ]
  },
  {
   "cell_type": "code",
   "execution_count": 35,
   "metadata": {},
   "outputs": [
    {
     "name": "stdout",
     "output_type": "stream",
     "text": [
      "CORRELATIONS:\n",
      "min event-tension:\n",
      "[[1.         0.86680503]\n",
      " [0.86680503 1.        ]]\n",
      "discrete min event-tension:\n",
      "[[1.        0.9301563]\n",
      " [0.9301563 1.       ]]\n",
      "max deflection reduction:\n",
      "[[1.         0.88135166]\n",
      " [0.88135166 1.        ]]\n",
      "discrete max deflection reduction:\n",
      "[[1.         0.95590354]\n",
      " [0.95590354 1.        ]]\n",
      "random object selection:\n",
      "[[1.         0.87761764]\n",
      " [0.87761764 1.        ]]\n",
      "discrete random object selection:\n",
      "[[1.         0.94031249]\n",
      " [0.94031249 1.        ]]\n"
     ]
    }
   ],
   "source": [
    "print(\"CORRELATIONS:\")\n",
    "print(\"min event-tension:\")\n",
    "print(np.corrcoef(empirical, mievte_hist))\n",
    "print(\"discrete min event-tension:\")\n",
    "print(np.corrcoef(empirical, dimievte_hist))\n",
    "print(\"max deflection reduction:\")\n",
    "print(np.corrcoef(empirical, madere_hist))\n",
    "print(\"discrete max deflection reduction:\")\n",
    "print(np.corrcoef(empirical, dimadere_hist))\n",
    "print(\"random object selection:\")\n",
    "print(np.corrcoef(empirical, ran_hist))\n",
    "print(\"discrete random object selection:\")\n",
    "print(np.corrcoef(empirical, diran_hist))"
   ]
  },
  {
   "cell_type": "markdown",
   "metadata": {},
   "source": [
    "### Average deflection of agents "
   ]
  },
  {
   "cell_type": "code",
   "execution_count": 36,
   "metadata": {},
   "outputs": [],
   "source": [
    "def_min_event_tension = all_agents_means(min_event_tension)[\"Deflection\"]\n",
    "def_discrete_min_event_tension = all_agents_means(discrete_min_event_tension)[\"Deflection\"]\n",
    "def_max_deflection_reduction = all_agents_means(max_deflection_reduction)[\"Deflection\"]\n",
    "def_discrete_max_deflection_reduction = all_agents_means(discrete_max_deflection_reduction)[\"Deflection\"]\n",
    "def_random = all_agents_means(random)[\"Deflection\"]\n",
    "def_discrete_random = all_agents_means(discrete_random)[\"Deflection\"]"
   ]
  },
  {
   "cell_type": "code",
   "execution_count": 37,
   "metadata": {},
   "outputs": [
    {
     "data": {
      "image/png": "[encoded data removed]",
      "text/plain": [
       "<Figure size 360x288 with 1 Axes>"
      ]
     },
     "metadata": {
      "needs_background": "light"
     },
     "output_type": "display_data"
    }
   ],
   "source": [
    "fig, ax = plt.subplots(figsize=(5,4))\n",
    "\n",
    "def_min_event_tension[0:150].plot(color=n_colors[2], alpha=0.5, label='Min event-tension', ax=ax)\n",
    "def_discrete_min_event_tension[0:150].plot(color=n_colors[2], label='Discrete Min event-tension', ax=ax)\n",
    "\n",
    "def_max_deflection_reduction[0:150].plot(color=n_colors[4], alpha=0.5, label='Max deflection-reduction', ax=ax)\n",
    "def_discrete_max_deflection_reduction[0:150].plot(color=n_colors[4], label='Discrete Max deflection-reduction', ax=ax)\n",
    "\n",
    "def_random[0:150].plot(color=n_colors[6], alpha=0.5, label='Random', ax=ax)\n",
    "def_discrete_random[0:150].plot(color=n_colors[6],  label='Discrete Random', ax=ax)\n",
    "\n",
    "ax.set_title('Mean deflection per agent')\n",
    "ax.legend()\n",
    "\n",
    "\n",
    "fig.tight_layout()\n",
    "\n",
    "plt.show()"
   ]
  },
  {
   "cell_type": "markdown",
   "metadata": {},
   "source": [
    "### Gender differences in  IPA category percentages"
   ]
  },
  {
   "cell_type": "code",
   "execution_count": 38,
   "metadata": {},
   "outputs": [
    {
     "data": {
      "image/png": "[encoded data removed]",
      "text/plain": [
       "<Figure size 432x288 with 1 Axes>"
      ]
     },
     "metadata": {
      "needs_background": "light"
     },
     "output_type": "display_data"
    }
   ],
   "source": [
    "labels = list(range(1,13,1))\n",
    "x = np.arange(len(labels))  # the label locations\n",
    "width = 0.1  # the width of the bars\n",
    "\n",
    "fig, ax = plt.subplots()\n",
    "ax.bar(x -2.5*width, gender_diff_percentages, 2*width,alpha=0.3, label='Empirical')\n",
    "ax.bar(x - width, mievte_gender_diff_percentages, width, color = n_colors[2], alpha=0.5, label='Min event-tension')\n",
    "ax.bar(x , dimievte_gender_diff_percentages, width, color = n_colors[2], label='Discrete Min event-tension')\n",
    "ax.bar(x + width, madere_gender_diff_percentages, width,color = n_colors[4],  alpha=0.5, label='Max deflection-reduction')\n",
    "ax.bar(x + 2*width, dimadere_gender_diff_percentages, width,color = n_colors[4],label='Discrete max deflection-red.')\n",
    "ax.bar(x + 3*width, random_gender_diff_percentages, width,color = n_colors[6],  alpha=0.5, label='Random')\n",
    "ax.bar(x + 4*width, diran_gender_diff_percentages, width,color = n_colors[6],label='Discrete random')\n",
    "\n",
    "ax.set_xlabel('Bales (IPA) categories')\n",
    "ax.set_title('Gender differences')\n",
    "ax.set_xticks(x)\n",
    "ax.set_xticklabels(labels)\n",
    "ax.axhline( y=0, xmin=0, xmax=1, color=\"black\", dashes=[0.5, 0.5], alpha=1)\n",
    "vals = ax.get_yticks()\n",
    "ax.legend()\n",
    "ax.set_yticklabels(['{:,.0%}'.format(x) for x in vals])\n",
    "fig.tight_layout()\n",
    "plt.show()"
   ]
  },
  {
   "cell_type": "markdown",
   "metadata": {},
   "source": [
    "### Gender differences: Correlations between empirical data and  different simulation settings for IPA-distributions"
   ]
  },
  {
   "cell_type": "code",
   "execution_count": 39,
   "metadata": {},
   "outputs": [
    {
     "name": "stdout",
     "output_type": "stream",
     "text": [
      "CORRELATIONS:\n",
      "min event-tension:\n",
      "[[1.         0.84557578]\n",
      " [0.84557578 1.        ]]\n",
      "discrete min event-tension:\n",
      "[[1.         0.90411097]\n",
      " [0.90411097 1.        ]]\n",
      "max deflection reduction:\n",
      "[[1.         0.85207239]\n",
      " [0.85207239 1.        ]]\n",
      "discrete max deflection reduction:\n",
      "[[1.         0.90466981]\n",
      " [0.90466981 1.        ]]\n",
      "random object selection:\n",
      "[[1.         0.88660556]\n",
      " [0.88660556 1.        ]]\n",
      "discrete random object selection:\n",
      "[[1.         0.89632582]\n",
      " [0.89632582 1.        ]]\n"
     ]
    }
   ],
   "source": [
    "print(\"CORRELATIONS:\")\n",
    "print(\"min event-tension:\")\n",
    "print(np.corrcoef(gender_diff_percentages, mievte_gender_diff_percentages))\n",
    "print(\"discrete min event-tension:\")\n",
    "print(np.corrcoef(gender_diff_percentages, dimievte_gender_diff_percentages))\n",
    "print(\"max deflection reduction:\")\n",
    "print(np.corrcoef(gender_diff_percentages, madere_gender_diff_percentages))\n",
    "print(\"discrete max deflection reduction:\")\n",
    "print(np.corrcoef(gender_diff_percentages, dimadere_gender_diff_percentages))\n",
    "print(\"random object selection:\")\n",
    "print(np.corrcoef(gender_diff_percentages, random_gender_diff_percentages))\n",
    "print(\"discrete random object selection:\")\n",
    "print(np.corrcoef(gender_diff_percentages, diran_gender_diff_percentages))"
   ]
  }
 ],
 "metadata": {
  "kernelspec": {
   "display_name": "group-venv",
   "language": "python",
   "name": "group-venv"
  },
  "language_info": {
   "codemirror_mode": {
    "name": "ipython",
    "version": 3
   },
   "file_extension": ".py",
   "mimetype": "text/x-python",
   "name": "python",
   "nbconvert_exporter": "python",
   "pygments_lexer": "ipython3",
   "version": "3.8.6"
  }
 },
 "nbformat": 4,
 "nbformat_minor": 2
}
